{
 "cells": [
  {
   "cell_type": "markdown",
   "metadata": {},
   "source": [
    "# Numpy Practices"
   ]
  },
  {
   "cell_type": "markdown",
   "metadata": {},
   "source": [
    "## Imaging Editing"
   ]
  },
  {
   "cell_type": "markdown",
   "metadata": {},
   "source": [
    "### Counter-color "
   ]
  },
  {
   "cell_type": "code",
   "execution_count": 1,
   "metadata": {},
   "outputs": [],
   "source": [
    "import numpy as np"
   ]
  },
  {
   "cell_type": "code",
   "execution_count": 2,
   "metadata": {},
   "outputs": [],
   "source": [
    "from PIL import Image"
   ]
  },
  {
   "cell_type": "code",
   "execution_count": 8,
   "metadata": {},
   "outputs": [],
   "source": [
    "a = np.array(Image.open('./Files/fcity.jpg')) #Image.open() to read image"
   ]
  },
  {
   "cell_type": "code",
   "execution_count": 9,
   "metadata": {},
   "outputs": [
    {
     "name": "stdout",
     "output_type": "stream",
     "text": [
      "(441, 634, 3) uint8\n"
     ]
    }
   ],
   "source": [
    "print(a.shape, a.dtype)"
   ]
  },
  {
   "cell_type": "code",
   "execution_count": 10,
   "metadata": {},
   "outputs": [
    {
     "name": "stdout",
     "output_type": "stream",
     "text": [
      "[[[ 53 130 198]\n",
      "  [ 53 130 198]]\n",
      "\n",
      " [[ 53 130 198]\n",
      "  [ 53 130 198]]]\n"
     ]
    }
   ],
   "source": [
    "print(a[:2,:2,:]) #3D array of an image"
   ]
  },
  {
   "cell_type": "code",
   "execution_count": 37,
   "metadata": {},
   "outputs": [
    {
     "name": "stdout",
     "output_type": "stream",
     "text": [
      "[[[202 125  57]\n",
      "  [202 125  57]\n",
      "  [202 125  57]\n",
      "  [202 125  57]]\n",
      "\n",
      " [[202 125  57]\n",
      "  [202 125  57]\n",
      "  [202 125  57]\n",
      "  [202 125  57]]\n",
      "\n",
      " [[202 124  58]\n",
      "  [202 124  58]\n",
      "  [202 124  58]\n",
      "  [202 124  58]]\n",
      "\n",
      " [[202 124  58]\n",
      "  [202 124  58]\n",
      "  [202 124  58]\n",
      "  [202 124  58]]]\n",
      "int64\n"
     ]
    }
   ],
   "source": [
    "b = [255,255,255] - a #Auto-Match dimension to Calculate\n",
    "print(b[:4,:4,:]) #the counter-color of every pixel\n",
    "print(b.dtype) #After calculation, new array is int64"
   ]
  },
  {
   "cell_type": "code",
   "execution_count": 15,
   "metadata": {},
   "outputs": [],
   "source": [
    "im = Image.fromarray(b.astype('uint8')) #returns a new unit8 array and save\n",
    "print(b.dtype) #.astype NOT modify"
   ]
  },
  {
   "cell_type": "code",
   "execution_count": 16,
   "metadata": {},
   "outputs": [],
   "source": [
    "im.save('./Files/fcity2.jpg') "
   ]
  },
  {
   "cell_type": "markdown",
   "metadata": {},
   "source": [
    "### Grey Scale Editing"
   ]
  },
  {
   "cell_type": "code",
   "execution_count": 29,
   "metadata": {},
   "outputs": [],
   "source": [
    "import numpy as np\n",
    "from PIL import Image"
   ]
  },
  {
   "cell_type": "code",
   "execution_count": 30,
   "metadata": {},
   "outputs": [],
   "source": [
    "g = np.array(Image.open('./Files/fcity.jpg').convert('L'))\n",
    "#.Image.open().convert('L') convert [R,G,B] to (greyscale)\n",
    "#3D-->2D "
   ]
  },
  {
   "cell_type": "code",
   "execution_count": 36,
   "metadata": {
    "scrolled": true
   },
   "outputs": [
    {
     "name": "stdout",
     "output_type": "stream",
     "text": [
      "(441, 634) uint8\n",
      "[[114 114 114 114]\n",
      " [114 114 114 114]\n",
      " [115 115 115 115]\n",
      " [115 115 115 115]]\n"
     ]
    }
   ],
   "source": [
    "print(g.shape, g.dtype)\n",
    "print(g[:4,:4]) #grey scale is 2D "
   ]
  },
  {
   "cell_type": "code",
   "execution_count": 47,
   "metadata": {},
   "outputs": [],
   "source": [
    "gim = Image.fromarray(g.astype('uint8'))"
   ]
  },
  {
   "cell_type": "code",
   "execution_count": 48,
   "metadata": {},
   "outputs": [],
   "source": [
    "gim.save('Files/fcity3.jpg')"
   ]
  },
  {
   "cell_type": "markdown",
   "metadata": {},
   "source": [
    "![title](./Files/fcity3.jpg)"
   ]
  },
  {
   "cell_type": "markdown",
   "metadata": {},
   "source": [
    "#### 3 Examples of Other Modification"
   ]
  },
  {
   "cell_type": "code",
   "execution_count": 52,
   "metadata": {},
   "outputs": [],
   "source": [
    "#1. Film-like grey\n",
    "gc =  255 - g "
   ]
  },
  {
   "cell_type": "code",
   "execution_count": null,
   "metadata": {},
   "outputs": [],
   "source": [
    "#2. Lighter grey\n",
    "gc = (100/255)*g + 150 "
   ]
  },
  {
   "cell_type": "code",
   "execution_count": null,
   "metadata": {},
   "outputs": [],
   "source": [
    "#3. Darker grey\n",
    "gc = 255 * (g/255)**2 "
   ]
  },
  {
   "cell_type": "code",
   "execution_count": 53,
   "metadata": {},
   "outputs": [],
   "source": [
    "gcim = Image.fromarray(gc.astype('uint8'))"
   ]
  },
  {
   "cell_type": "code",
   "execution_count": 60,
   "metadata": {},
   "outputs": [],
   "source": [
    "gcim.save('./Files/fcity4.jpg')"
   ]
  },
  {
   "cell_type": "markdown",
   "metadata": {},
   "source": [
    "some problem with this one, but it should have looked like Film \n",
    "<br>![title](./Files/fcity4.jpg)"
   ]
  }
 ],
 "metadata": {
  "kernelspec": {
   "display_name": "Python 3",
   "language": "python",
   "name": "python3"
  },
  "language_info": {
   "codemirror_mode": {
    "name": "ipython",
    "version": 3
   },
   "file_extension": ".py",
   "mimetype": "text/x-python",
   "name": "python",
   "nbconvert_exporter": "python",
   "pygments_lexer": "ipython3",
   "version": "3.7.1"
  }
 },
 "nbformat": 4,
 "nbformat_minor": 2
}
