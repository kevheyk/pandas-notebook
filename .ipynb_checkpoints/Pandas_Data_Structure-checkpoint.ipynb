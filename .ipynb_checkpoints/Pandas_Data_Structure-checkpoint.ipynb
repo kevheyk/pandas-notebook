{
 "cells": [
  {
   "cell_type": "markdown",
   "metadata": {},
   "source": [
    "## Create, Modify Series and DataFrame"
   ]
  },
  {
   "cell_type": "code",
   "execution_count": 1,
   "metadata": {},
   "outputs": [],
   "source": [
    "import numpy as np\n",
    "import pandas as pd"
   ]
  },
  {
   "cell_type": "code",
   "execution_count": null,
   "metadata": {},
   "outputs": [],
   "source": []
  },
  {
   "cell_type": "code",
   "execution_count": null,
   "metadata": {},
   "outputs": [],
   "source": []
  },
  {
   "cell_type": "code",
   "execution_count": null,
   "metadata": {},
   "outputs": [],
   "source": [
    "#Series is in fact a row, \n",
    "#but displays vertically"
   ]
  },
  {
   "cell_type": "code",
   "execution_count": 89,
   "metadata": {
    "scrolled": true
   },
   "outputs": [
    {
     "data": {
      "text/plain": [
       "100    0.448979\n",
       "101    0.479664\n",
       "102    0.368682\n",
       "103    0.326850\n",
       "104    0.995927\n",
       "105    0.575048\n",
       "106    0.862991\n",
       "107    0.898939\n",
       "108    0.254991\n",
       "Name: Series from List1, dtype: float64"
      ]
     },
     "execution_count": 89,
     "metadata": {},
     "output_type": "execute_result"
    }
   ],
   "source": [
    "#creat a Series from list, or nparray\n",
    "\n",
    "#they do not come with index, \n",
    "#so we use index = [] to label each element in order\n",
    "\n",
    "s1 = pd.Series(np.random.rand(9),\\\n",
    "          index =  np.arange(100,109,1), \\\n",
    "              name = 'Series from List1')\n",
    "\n",
    "s1"
   ]
  },
  {
   "cell_type": "code",
   "execution_count": null,
   "metadata": {},
   "outputs": [],
   "source": []
  },
  {
   "cell_type": "code",
   "execution_count": 105,
   "metadata": {
    "scrolled": true
   },
   "outputs": [
    {
     "data": {
      "text/plain": [
       "100    0.324077\n",
       "101    0.156072\n",
       "102    0.467992\n",
       "103    0.628837\n",
       "104    0.062562\n",
       "105    0.205122\n",
       "106    0.568429\n",
       "107    0.629431\n",
       "108    0.826186\n",
       "Name: Series from Dict2, dtype: float64"
      ]
     },
     "execution_count": 105,
     "metadata": {},
     "output_type": "execute_result"
    }
   ],
   "source": [
    "#creat a Series from dict\n",
    "\n",
    "#Series always take 1 dict,\n",
    "#Index is pre-defined by the key\n",
    "\n",
    "dict2 = dict()\n",
    "for i in range(9):\n",
    "    dict2[i] = np.random.rand(1)[0] \n",
    "s2 = pd.Series(dict2, \\\n",
    "              name = 'Series from Dict2')\n",
    "\n",
    "#We can name/ renames the index itself\n",
    "s2.index.rename('Index name != index label')\n",
    "\n",
    "#We can re-label each element\n",
    "s2.index = np.arange(100, 109)\n",
    "s2"
   ]
  },
  {
   "cell_type": "code",
   "execution_count": 117,
   "metadata": {},
   "outputs": [
    {
     "data": {
      "text/plain": [
       "100    [4, 81]\n",
       "101     [2, 7]\n",
       "102    [8, 50]\n",
       "103    [3, 80]\n",
       "104    [1, 68]\n",
       "105    [1, 65]\n",
       "106    [9, 62]\n",
       "107    [1, 15]\n",
       "108    [8, 83]\n",
       "Name: Series from Dict3 , dtype: object"
      ]
     },
     "execution_count": 117,
     "metadata": {},
     "output_type": "execute_result"
    }
   ],
   "source": [
    "# Series with netted element\n",
    "dict3 = dict()\n",
    "for i in range(9):\n",
    "    dict3[i] = [np.random.randint(10),np.random.randint(100)]\n",
    "s3 = pd.Series(dict3, \\\n",
    "              name = 'Series from Dict3 ')\n",
    "s3.index = np.arange(100, 109)\n",
    "s3"
   ]
  },
  {
   "cell_type": "code",
   "execution_count": 108,
   "metadata": {
    "scrolled": false
   },
   "outputs": [
    {
     "data": {
      "text/html": [
       "<div>\n",
       "<style scoped>\n",
       "    .dataframe tbody tr th:only-of-type {\n",
       "        vertical-align: middle;\n",
       "    }\n",
       "\n",
       "    .dataframe tbody tr th {\n",
       "        vertical-align: top;\n",
       "    }\n",
       "\n",
       "    .dataframe thead th {\n",
       "        text-align: right;\n",
       "    }\n",
       "</style>\n",
       "<table border=\"1\" class=\"dataframe\">\n",
       "  <thead>\n",
       "    <tr style=\"text-align: right;\">\n",
       "      <th></th>\n",
       "      <th>Series from List1</th>\n",
       "    </tr>\n",
       "  </thead>\n",
       "  <tbody>\n",
       "    <tr>\n",
       "      <th>100</th>\n",
       "      <td>0.448979</td>\n",
       "    </tr>\n",
       "    <tr>\n",
       "      <th>101</th>\n",
       "      <td>0.479664</td>\n",
       "    </tr>\n",
       "    <tr>\n",
       "      <th>102</th>\n",
       "      <td>0.368682</td>\n",
       "    </tr>\n",
       "    <tr>\n",
       "      <th>103</th>\n",
       "      <td>0.326850</td>\n",
       "    </tr>\n",
       "    <tr>\n",
       "      <th>104</th>\n",
       "      <td>0.995927</td>\n",
       "    </tr>\n",
       "    <tr>\n",
       "      <th>105</th>\n",
       "      <td>0.575048</td>\n",
       "    </tr>\n",
       "    <tr>\n",
       "      <th>106</th>\n",
       "      <td>0.862991</td>\n",
       "    </tr>\n",
       "    <tr>\n",
       "      <th>107</th>\n",
       "      <td>0.898939</td>\n",
       "    </tr>\n",
       "    <tr>\n",
       "      <th>108</th>\n",
       "      <td>0.254991</td>\n",
       "    </tr>\n",
       "  </tbody>\n",
       "</table>\n",
       "</div>"
      ],
      "text/plain": [
       "     Series from List1\n",
       "100           0.448979\n",
       "101           0.479664\n",
       "102           0.368682\n",
       "103           0.326850\n",
       "104           0.995927\n",
       "105           0.575048\n",
       "106           0.862991\n",
       "107           0.898939\n",
       "108           0.254991"
      ]
     },
     "execution_count": 108,
     "metadata": {},
     "output_type": "execute_result"
    }
   ],
   "source": [
    "#Created DataFrame from Series* Avoid!\n",
    "\n",
    "#If only a single Series, and without []\n",
    "pd.DataFrame(s1)\n",
    "\n",
    "#Breaks the single Series down to elements, \n",
    "#each element becomes a row\n",
    "#still DataFrame"
   ]
  },
  {
   "cell_type": "code",
   "execution_count": 71,
   "metadata": {},
   "outputs": [
    {
     "data": {
      "text/html": [
       "<div>\n",
       "<style scoped>\n",
       "    .dataframe tbody tr th:only-of-type {\n",
       "        vertical-align: middle;\n",
       "    }\n",
       "\n",
       "    .dataframe tbody tr th {\n",
       "        vertical-align: top;\n",
       "    }\n",
       "\n",
       "    .dataframe thead th {\n",
       "        text-align: right;\n",
       "    }\n",
       "</style>\n",
       "<table border=\"1\" class=\"dataframe\">\n",
       "  <thead>\n",
       "    <tr style=\"text-align: right;\">\n",
       "      <th></th>\n",
       "      <th>100</th>\n",
       "      <th>101</th>\n",
       "      <th>102</th>\n",
       "      <th>103</th>\n",
       "      <th>104</th>\n",
       "      <th>105</th>\n",
       "      <th>106</th>\n",
       "      <th>107</th>\n",
       "      <th>108</th>\n",
       "    </tr>\n",
       "  </thead>\n",
       "  <tbody>\n",
       "    <tr>\n",
       "      <th>Series from List</th>\n",
       "      <td>0.941237</td>\n",
       "      <td>0.342946</td>\n",
       "      <td>0.931147</td>\n",
       "      <td>0.242531</td>\n",
       "      <td>0.764405</td>\n",
       "      <td>0.053678</td>\n",
       "      <td>0.948108</td>\n",
       "      <td>0.625097</td>\n",
       "      <td>0.800521</td>\n",
       "    </tr>\n",
       "  </tbody>\n",
       "</table>\n",
       "</div>"
      ],
      "text/plain": [
       "                       100       101       102       103       104       105  \\\n",
       "Series from List  0.941237  0.342946  0.931147  0.242531  0.764405  0.053678   \n",
       "\n",
       "                       106       107       108  \n",
       "Series from List  0.948108  0.625097  0.800521  "
      ]
     },
     "execution_count": 71,
     "metadata": {},
     "output_type": "execute_result"
    }
   ],
   "source": [
    "#Created DataFrame from Series in []\n",
    "\n",
    "#1 single Series, in []\n",
    "pd.DataFrame([s1])\n",
    "\n",
    "#Each Series is one row\n",
    "#Series name --> Row index\n",
    "#Series labels --> Column names"
   ]
  },
  {
   "cell_type": "code",
   "execution_count": 116,
   "metadata": {},
   "outputs": [
    {
     "data": {
      "text/html": [
       "<div>\n",
       "<style scoped>\n",
       "    .dataframe tbody tr th:only-of-type {\n",
       "        vertical-align: middle;\n",
       "    }\n",
       "\n",
       "    .dataframe tbody tr th {\n",
       "        vertical-align: top;\n",
       "    }\n",
       "\n",
       "    .dataframe thead th {\n",
       "        text-align: right;\n",
       "    }\n",
       "</style>\n",
       "<table border=\"1\" class=\"dataframe\">\n",
       "  <thead>\n",
       "    <tr style=\"text-align: right;\">\n",
       "      <th></th>\n",
       "      <th>100</th>\n",
       "      <th>101</th>\n",
       "      <th>102</th>\n",
       "      <th>103</th>\n",
       "      <th>104</th>\n",
       "      <th>105</th>\n",
       "      <th>106</th>\n",
       "      <th>107</th>\n",
       "      <th>108</th>\n",
       "    </tr>\n",
       "  </thead>\n",
       "  <tbody>\n",
       "    <tr>\n",
       "      <th>Series from List1</th>\n",
       "      <td>0.448979</td>\n",
       "      <td>0.479664</td>\n",
       "      <td>0.368682</td>\n",
       "      <td>0.326850</td>\n",
       "      <td>0.995927</td>\n",
       "      <td>0.575048</td>\n",
       "      <td>0.862991</td>\n",
       "      <td>0.898939</td>\n",
       "      <td>0.254991</td>\n",
       "    </tr>\n",
       "    <tr>\n",
       "      <th>Series from Dict2</th>\n",
       "      <td>0.324077</td>\n",
       "      <td>0.156072</td>\n",
       "      <td>0.467992</td>\n",
       "      <td>0.628837</td>\n",
       "      <td>0.062562</td>\n",
       "      <td>0.205122</td>\n",
       "      <td>0.568429</td>\n",
       "      <td>0.629431</td>\n",
       "      <td>0.826186</td>\n",
       "    </tr>\n",
       "  </tbody>\n",
       "</table>\n",
       "</div>"
      ],
      "text/plain": [
       "                        100       101       102       103       104       105  \\\n",
       "Series from List1  0.448979  0.479664  0.368682  0.326850  0.995927  0.575048   \n",
       "Series from Dict2  0.324077  0.156072  0.467992  0.628837  0.062562  0.205122   \n",
       "\n",
       "                        106       107       108  \n",
       "Series from List1  0.862991  0.898939  0.254991  \n",
       "Series from Dict2  0.568429  0.629431  0.826186  "
      ]
     },
     "execution_count": 116,
     "metadata": {},
     "output_type": "execute_result"
    }
   ],
   "source": [
    "#Created DataFrame from Series in []\n",
    "\n",
    "#Multiple Series, in []\n",
    "pd.DataFrame([s1, s2])\n",
    "\n",
    "#Each Series is one row\n",
    "#Series name --> Row index\n",
    "#Series labels --> Column names\n",
    "\n",
    "#Auto-Match column names"
   ]
  },
  {
   "cell_type": "code",
   "execution_count": 145,
   "metadata": {},
   "outputs": [
    {
     "data": {
      "text/html": [
       "<div>\n",
       "<style scoped>\n",
       "    .dataframe tbody tr th:only-of-type {\n",
       "        vertical-align: middle;\n",
       "    }\n",
       "\n",
       "    .dataframe tbody tr th {\n",
       "        vertical-align: top;\n",
       "    }\n",
       "\n",
       "    .dataframe thead th {\n",
       "        text-align: right;\n",
       "    }\n",
       "</style>\n",
       "<table border=\"1\" class=\"dataframe\">\n",
       "  <thead>\n",
       "    <tr style=\"text-align: right;\">\n",
       "      <th></th>\n",
       "      <th>99</th>\n",
       "      <th>999</th>\n",
       "      <th>102</th>\n",
       "      <th>103</th>\n",
       "      <th>104</th>\n",
       "      <th>105</th>\n",
       "      <th>106</th>\n",
       "      <th>107</th>\n",
       "      <th>108</th>\n",
       "    </tr>\n",
       "  </thead>\n",
       "  <tbody>\n",
       "    <tr>\n",
       "      <th>2ndDict</th>\n",
       "      <td>0.324077</td>\n",
       "      <td>0.156072</td>\n",
       "      <td>0.467992</td>\n",
       "      <td>0.628837</td>\n",
       "      <td>0.062562</td>\n",
       "      <td>0.205122</td>\n",
       "      <td>0.568429</td>\n",
       "      <td>0.629431</td>\n",
       "      <td>0.826186</td>\n",
       "    </tr>\n",
       "    <tr>\n",
       "      <th>Dict3</th>\n",
       "      <td>[4, 81]</td>\n",
       "      <td>[2, 7]</td>\n",
       "      <td>[8, 50]</td>\n",
       "      <td>[3, 80]</td>\n",
       "      <td>[1, 68]</td>\n",
       "      <td>[1, 65]</td>\n",
       "      <td>[9, 62]</td>\n",
       "      <td>[1, 15]</td>\n",
       "      <td>[8, 83]</td>\n",
       "    </tr>\n",
       "  </tbody>\n",
       "</table>\n",
       "</div>"
      ],
      "text/plain": [
       "              99        999       102       103       104       105       106  \\\n",
       "2ndDict  0.324077  0.156072  0.467992  0.628837  0.062562  0.205122  0.568429   \n",
       "Dict3     [4, 81]    [2, 7]   [8, 50]   [3, 80]   [1, 68]   [1, 65]   [9, 62]   \n",
       "\n",
       "              107       108  \n",
       "2ndDict  0.629431  0.826186  \n",
       "Dict3     [1, 15]   [8, 83]  "
      ]
     },
     "execution_count": 145,
     "metadata": {},
     "output_type": "execute_result"
    }
   ],
   "source": [
    "#Create DataFrame from Dict in []\n",
    "\n",
    "#Every dict in [] is a row, every key is column index\n",
    "#dict2[0] = dict2.pop(99)\n",
    "#Dict have no name, we can define row name using index=[]\n",
    "df3 = pd.DataFrame([dict2, dict3], index=['Dict2', 'Dict3'])\n",
    "\n",
    "#Assign a same-length column names: \n",
    "df3.columns = np.arange(100,109) \n",
    "#Rename a specific column/row name\n",
    "df3.rename(columns = {100: 99, 101: 999}, \\\n",
    "           index = {'Dict2': '2ndDict'})"
   ]
  },
  {
   "cell_type": "code",
   "execution_count": 193,
   "metadata": {
    "scrolled": true
   },
   "outputs": [
    {
     "data": {
      "text/plain": [
       "100                    0.260192\n",
       "101                   0.0549113\n",
       "102                    0.499205\n",
       "103                    0.716326\n",
       "104                    0.510905\n",
       "105                    0.840614\n",
       "106                    0.965334\n",
       "107                    0.904184\n",
       "108                    0.643837\n",
       "Indexing                    add\n",
       "Another Indexing            Add\n",
       "append                Dict-like\n",
       "Append              Many Series\n",
       "dtype: object"
      ]
     },
     "execution_count": 193,
     "metadata": {},
     "output_type": "execute_result"
    }
   ],
   "source": [
    "#Add, append element to Series\n",
    "\n",
    "s1 = pd.Series(np.random.rand(9),\\\n",
    "          index =  np.arange(100,109,1), \\\n",
    "              name = 'Series from List1')\n",
    "\n",
    "\n",
    "#Use index to easily add a new element\n",
    "s1['Indexing'] = 'add'\n",
    "s1.loc['Another Indexing'] = 'Add'\n",
    "\n",
    "#Append existing Series, or Series being created by dict\n",
    "\n",
    "s1 = s1.append(pd.Series({'append': 'Dict-like', 'Append' : 'Many Series'}))\n",
    "\n",
    "#Series can only be appended by Series, or DataFrame\n",
    "\n",
    "s1"
   ]
  },
  {
   "cell_type": "code",
   "execution_count": 194,
   "metadata": {},
   "outputs": [
    {
     "data": {
      "text/plain": [
       "100     0.260192\n",
       "101    0.0549113\n",
       "102     0.499205\n",
       "103     0.716326\n",
       "104     0.510905\n",
       "105     0.840614\n",
       "106     0.965334\n",
       "107     0.904184\n",
       "108     0.643837\n",
       "dtype: object"
      ]
     },
     "execution_count": 194,
     "metadata": {},
     "output_type": "execute_result"
    }
   ],
   "source": [
    "#Drop from a Series\n",
    "\n",
    "s1 = s1.drop(index = ['Indexing', 'Another Indexing'])\n",
    "s1 = s1.drop(['append', 'Append'], axis = 0)\n",
    "s1"
   ]
  },
  {
   "cell_type": "code",
   "execution_count": 244,
   "metadata": {},
   "outputs": [
    {
     "data": {
      "text/html": [
       "<div>\n",
       "<style scoped>\n",
       "    .dataframe tbody tr th:only-of-type {\n",
       "        vertical-align: middle;\n",
       "    }\n",
       "\n",
       "    .dataframe tbody tr th {\n",
       "        vertical-align: top;\n",
       "    }\n",
       "\n",
       "    .dataframe thead th {\n",
       "        text-align: right;\n",
       "    }\n",
       "</style>\n",
       "<table border=\"1\" class=\"dataframe\">\n",
       "  <thead>\n",
       "    <tr style=\"text-align: right;\">\n",
       "      <th></th>\n",
       "      <th>100</th>\n",
       "      <th>101</th>\n",
       "      <th>102</th>\n",
       "      <th>103</th>\n",
       "      <th>104</th>\n",
       "      <th>105</th>\n",
       "      <th>106</th>\n",
       "      <th>107</th>\n",
       "      <th>108</th>\n",
       "      <th>99</th>\n",
       "    </tr>\n",
       "  </thead>\n",
       "  <tbody>\n",
       "    <tr>\n",
       "      <th>Dict2</th>\n",
       "      <td>AddHere</td>\n",
       "      <td>0.156072</td>\n",
       "      <td>0.467992</td>\n",
       "      <td>0.628837</td>\n",
       "      <td>0.062562</td>\n",
       "      <td>0.205122</td>\n",
       "      <td>0.568429</td>\n",
       "      <td>0.629431</td>\n",
       "      <td>0.826186</td>\n",
       "      <td>AddThere</td>\n",
       "    </tr>\n",
       "    <tr>\n",
       "      <th>Dict3</th>\n",
       "      <td>[4, 81]</td>\n",
       "      <td>[2, 7]</td>\n",
       "      <td>[8, 50]</td>\n",
       "      <td>[3, 80]</td>\n",
       "      <td>[1, 68]</td>\n",
       "      <td>[1, 65]</td>\n",
       "      <td>[9, 62]</td>\n",
       "      <td>[1, 15]</td>\n",
       "      <td>[8, 83]</td>\n",
       "      <td>AddAnywhere</td>\n",
       "    </tr>\n",
       "    <tr>\n",
       "      <th>AnySeries</th>\n",
       "      <td>Specified</td>\n",
       "      <td>Values</td>\n",
       "      <td>NaN</td>\n",
       "      <td>NaN</td>\n",
       "      <td>NaN</td>\n",
       "      <td>NaN</td>\n",
       "      <td>NaN</td>\n",
       "      <td>NaN</td>\n",
       "      <td>NaN</td>\n",
       "      <td>NaN</td>\n",
       "    </tr>\n",
       "  </tbody>\n",
       "</table>\n",
       "</div>"
      ],
      "text/plain": [
       "                 100       101       102       103       104       105  \\\n",
       "Dict2        AddHere  0.156072  0.467992  0.628837  0.062562  0.205122   \n",
       "Dict3        [4, 81]    [2, 7]   [8, 50]   [3, 80]   [1, 68]   [1, 65]   \n",
       "AnySeries  Specified    Values       NaN       NaN       NaN       NaN   \n",
       "\n",
       "                106       107       108          99   \n",
       "Dict2      0.568429  0.629431  0.826186     AddThere  \n",
       "Dict3       [9, 62]   [1, 15]   [8, 83]  AddAnywhere  \n",
       "AnySeries       NaN       NaN       NaN          NaN  "
      ]
     },
     "execution_count": 244,
     "metadata": {},
     "output_type": "execute_result"
    }
   ],
   "source": [
    "#Add or append to DataFrame\n",
    "df3 = pd.DataFrame([dict2, dict3], index=['Dict2', 'Dict3'])\n",
    "df3.columns = np.arange(100,109)\n",
    "\n",
    "#Add by indexing \n",
    "#create a new column if non-existing. \n",
    "#NOT work for new row\n",
    "df3[df3.columns[0]].loc['Dict2'] = 'AddHere' \n",
    "df3.loc[:, 99] = ['AddThere', 'AddAnywhere']\n",
    "\n",
    "#Add a row by appending Series\n",
    "#if append(ignore_index=True) or if the Series has a name\n",
    "df3.append(pd.Series(dict2, name = 'AnySeries'),ignore_index =False)\n",
    "\n",
    "#Add or fill a row by appending Series with data and name\n",
    "df3.append(pd.Series(data={100: 'Specified', 101:'Values'}, name='AnySeries'))"
   ]
  },
  {
   "cell_type": "code",
   "execution_count": 241,
   "metadata": {},
   "outputs": [
    {
     "data": {
      "text/html": [
       "<div>\n",
       "<style scoped>\n",
       "    .dataframe tbody tr th:only-of-type {\n",
       "        vertical-align: middle;\n",
       "    }\n",
       "\n",
       "    .dataframe tbody tr th {\n",
       "        vertical-align: top;\n",
       "    }\n",
       "\n",
       "    .dataframe thead th {\n",
       "        text-align: right;\n",
       "    }\n",
       "</style>\n",
       "<table border=\"1\" class=\"dataframe\">\n",
       "  <thead>\n",
       "    <tr style=\"text-align: right;\">\n",
       "      <th></th>\n",
       "      <th>100</th>\n",
       "      <th>101</th>\n",
       "      <th>102</th>\n",
       "      <th>103</th>\n",
       "      <th>104</th>\n",
       "      <th>105</th>\n",
       "      <th>106</th>\n",
       "      <th>107</th>\n",
       "      <th>108</th>\n",
       "      <th>Assgn_Function</th>\n",
       "    </tr>\n",
       "  </thead>\n",
       "  <tbody>\n",
       "    <tr>\n",
       "      <th>Dict2</th>\n",
       "      <td>0.324077</td>\n",
       "      <td>0.156072</td>\n",
       "      <td>0.467992</td>\n",
       "      <td>0.628837</td>\n",
       "      <td>0.062562</td>\n",
       "      <td>0.205122</td>\n",
       "      <td>0.568429</td>\n",
       "      <td>0.629431</td>\n",
       "      <td>0.826186</td>\n",
       "      <td>0.648153</td>\n",
       "    </tr>\n",
       "    <tr>\n",
       "      <th>Dict3</th>\n",
       "      <td>[4, 81]</td>\n",
       "      <td>[2, 7]</td>\n",
       "      <td>[8, 50]</td>\n",
       "      <td>[3, 80]</td>\n",
       "      <td>[1, 68]</td>\n",
       "      <td>[1, 65]</td>\n",
       "      <td>[9, 62]</td>\n",
       "      <td>[1, 15]</td>\n",
       "      <td>[8, 83]</td>\n",
       "      <td>[4, 81, 4, 81]</td>\n",
       "    </tr>\n",
       "  </tbody>\n",
       "</table>\n",
       "</div>"
      ],
      "text/plain": [
       "            100       101       102       103       104       105       106  \\\n",
       "Dict2  0.324077  0.156072  0.467992  0.628837  0.062562  0.205122  0.568429   \n",
       "Dict3   [4, 81]    [2, 7]   [8, 50]   [3, 80]   [1, 68]   [1, 65]   [9, 62]   \n",
       "\n",
       "            107       108  Assgn_Function  \n",
       "Dict2  0.629431  0.826186        0.648153  \n",
       "Dict3   [1, 15]   [8, 83]  [4, 81, 4, 81]  "
      ]
     },
     "execution_count": 241,
     "metadata": {},
     "output_type": "execute_result"
    }
   ],
   "source": [
    "#Add by assign \n",
    "\n",
    "df3 = pd.DataFrame([dict2, dict3], index=['Dict2', 'Dict3'])\n",
    "df3.columns = np.arange(100,109)\n",
    "\n",
    "df3.assign(Assign_Array = [1,2]) #same_length array, \n",
    "df3.assign(Assgn_Function = lambda x: df3[100]*2) #or callable"
   ]
  },
  {
   "cell_type": "code",
   "execution_count": null,
   "metadata": {},
   "outputs": [],
   "source": []
  }
 ],
 "metadata": {
  "kernelspec": {
   "display_name": "Python 3",
   "language": "python",
   "name": "python3"
  },
  "language_info": {
   "codemirror_mode": {
    "name": "ipython",
    "version": 3
   },
   "file_extension": ".py",
   "mimetype": "text/x-python",
   "name": "python",
   "nbconvert_exporter": "python",
   "pygments_lexer": "ipython3",
   "version": "3.7.1"
  }
 },
 "nbformat": 4,
 "nbformat_minor": 2
}
